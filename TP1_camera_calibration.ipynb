{
 "cells": [
  {
   "cell_type": "markdown",
   "metadata": {},
   "source": [
    "# TP2: Camera Calibration"
   ]
  },
  {
   "cell_type": "markdown",
   "metadata": {},
   "source": [
    "Read, understand, and complete and run the following notebook. You must return the completed notebook, including your answers and illustrations (you may need to add cells to write your code or comments). \n",
    "\n",
    "To execute a notebook, you will need to [install jupyter](http://jupyter.org/install.html). If you cannot/don't want to use notebooks, you can return both your python code and a report in pdf."
   ]
  },
  {
   "cell_type": "code",
   "execution_count": 154,
   "metadata": {},
   "outputs": [],
   "source": [
    "# See TP1 for information about those imports\n",
    "import numpy as np \n",
    "import matplotlib.pyplot as plt \n",
    "import scipy.ndimage as ndimage\n",
    "plt.rcParams['image.cmap'] = 'gray' \n",
    "\n",
    "# Useful for loading mat files\n",
    "import scipy.io as sio\n",
    "\n",
    "# Useful for optimization\n",
    "import scipy.optimize as optimize"
   ]
  },
  {
   "cell_type": "markdown",
   "metadata": {},
   "source": [
    "Download the [data](http://imagine.enpc.fr/~aubrym/lectures/introvis17/clean_points.mat ). Load the data:"
   ]
  },
  {
   "cell_type": "code",
   "execution_count": 207,
   "metadata": {},
   "outputs": [],
   "source": [
    "data = sio.loadmat('clean_points.mat')\n",
    "pts2d = data['pts2d']\n",
    "pts3d = data['pts3d']"
   ]
  },
  {
   "cell_type": "markdown",
   "metadata": {},
   "source": [
    "`pts2d` and `pts3d` are two vector of corresponding points in the image and in 3D. We will use these correspondences to calibrate the camera."
   ]
  },
  {
   "cell_type": "markdown",
   "metadata": {},
   "source": [
    "### Linear Method"
   ]
  },
  {
   "cell_type": "markdown",
   "metadata": {},
   "source": [
    "We first try to perform camera calibration using the linear method. From the lecture, we know that it ideally solves an equation ($\\mathbf 0$ being a vector, and $\\mathbf p$ a vector representation of the camera matrix)\n",
    "\n",
    "$$A \\mathbf p = \\mathbf 0$$\n",
    "\n",
    "**1.** Build the matrix `A` that defines this calibration equation. What are its dimensions?"
   ]
  },
  {
   "cell_type": "code",
   "execution_count": 156,
   "metadata": {},
   "outputs": [
    {
     "name": "stdout",
     "output_type": "stream",
     "text": [
      "Its dimentions are (982, 12)\n"
     ]
    }
   ],
   "source": [
    "# 1\n",
    "\n",
    "def Build_A (points3d,points2d):\n",
    "    \n",
    "    n=points3d.shape[0]\n",
    "    homogenous_points3d=np.c_[points3d,np.ones(n)]\n",
    "    A=np.zeros((2*n,12))\n",
    "    \n",
    "    A[::2,:4]=homogenous_points3d\n",
    "    A[1::2,4:8]=homogenous_points3d\n",
    "    A[::2,8:12]=-np.dot(np.diag(points2d[:,0]),homogenous_points3d)\n",
    "    A[1::2,8:12]=-np.dot(np.diag(points2d[:,1]),homogenous_points3d)\n",
    "    \n",
    "    return A\n",
    "\n",
    "\n",
    "A = Build_A(pts3d,pts2d)\n",
    "print(\"Its dimentions are\",A.shape)\n"
   ]
  },
  {
   "cell_type": "markdown",
   "metadata": {},
   "source": [
    "## what is SVD and how it relates to the eigenvalue? Should we finid the eigenvalues of A ou At*A?"
   ]
  },
  {
   "cell_type": "markdown",
   "metadata": {},
   "source": [
    "**2.a)** Perform SVD (using `np.linalg.svd`) on `A` .<br/>\n",
    "**b)** Check that the SVD is coherent and that one of the singular value is close to $0$ .<br/>\n",
    "**c)** Use this SVD to compute the camera matrix `P`."
   ]
  },
  {
   "cell_type": "code",
   "execution_count": 157,
   "metadata": {},
   "outputs": [
    {
     "name": "stdout",
     "output_type": "stream",
     "text": [
      "0.04316114614617875\n"
     ]
    }
   ],
   "source": [
    "#2.a\n",
    "U, S, V = np.linalg.svd(A)\n",
    "#2.b\n",
    "print(min(S))\n"
   ]
  },
  {
   "cell_type": "code",
   "execution_count": 177,
   "metadata": {},
   "outputs": [
    {
     "name": "stdout",
     "output_type": "stream",
     "text": [
      "[[-4.53359881e-03 -5.65451256e-04  2.02849590e-03 -5.23179344e-01]\n",
      " [-1.84278426e-03  4.15975903e-03 -1.68779276e-03 -8.52192928e-01]\n",
      " [-3.25683227e-06 -1.13804182e-06 -3.35237791e-06 -1.43209220e-03]]\n"
     ]
    }
   ],
   "source": [
    "#2.c\n",
    "sol = V[-1,:]\n",
    "P = sol.reshape((3,4))\n",
    "print(P)"
   ]
  },
  {
   "cell_type": "markdown",
   "metadata": {},
   "source": [
    "**3.** Write a function `projection_error(P, pts3d, pts2d)` that computes the measurement error (Mean Squared Error) between the 3D points projected with a matrix `P`, and the 2D points."
   ]
  },
  {
   "cell_type": "code",
   "execution_count": 229,
   "metadata": {},
   "outputs": [
    {
     "name": "stdout",
     "output_type": "stream",
     "text": [
      "0.4582634967385366\n"
     ]
    }
   ],
   "source": [
    "def projection_error(P, pts3d, pts2d):\n",
    "    \n",
    "    homogenous_pts3d=np.c_[pts3d,np.ones(len(pts3d))]\n",
    "    P=P.reshape(3,4)\n",
    "    projection_homogenous = np.dot(P,np.transpose(homogenous_pts3d))\n",
    "    projection = np.array([projection_homogenous[0,:]/projection_homogenous[-1,:],\n",
    "                           projection_homogenous[1,:]/projection_homogenous[-1,:]])\n",
    "    error = (projection.T - pts2d)\n",
    "    \n",
    "    # Flatten the error array to 1D to optmize later\n",
    "    return error.flatten()\n",
    "    \n",
    "\n",
    "MSE = np.mean(projection_error(P, pts3d, pts2d)**2)\n",
    "print(MSE)\n",
    "\n",
    "    "
   ]
  },
  {
   "cell_type": "markdown",
   "metadata": {},
   "source": [
    "**4.** Visualize the projected 3D points and the 2D points on the same figure (use `plt.scatter` with different `marker` options)."
   ]
  },
  {
   "cell_type": "markdown",
   "metadata": {},
   "source": [
    "Calculating the projected 3D points"
   ]
  },
  {
   "cell_type": "code",
   "execution_count": 230,
   "metadata": {},
   "outputs": [],
   "source": [
    "homogenous_pts3d=np.c_[pts3d,np.ones(len(pts3d))]\n",
    "projection_homogenous = np.dot(P,np.transpose(homogenous_pts3d))\n",
    "projection = np.array([projection_homogenous[0,:]/projection_homogenous[-1,:],\n",
    "                        projection_homogenous[1,:]/projection_homogenous[-1,:]]).T"
   ]
  },
  {
   "cell_type": "markdown",
   "metadata": {},
   "source": [
    "Plotting the results:"
   ]
  },
  {
   "cell_type": "code",
   "execution_count": 161,
   "metadata": {},
   "outputs": [
    {
     "data": {
      "image/png": "[encoded data removed]",
      "text/plain": [
       "<Figure size 432x288 with 1 Axes>"
      ]
     },
     "metadata": {
      "needs_background": "light"
     },
     "output_type": "display_data"
    }
   ],
   "source": [
    "plt.scatter(projection[:,0], projection[:,1], marker='o',c='orange',s=30)\n",
    "plt.scatter(pts2d[:,0], pts2d[:,1], marker='x',c='blue',s=4)\n",
    "plt.show()"
   ]
  },
  {
   "cell_type": "markdown",
   "metadata": {},
   "source": [
    "### Camera parameters\n",
    "\n",
    "We want to extract the parameters of the camera from the matrix `P`, *i.e.*, the internal $(3\\times 3)$ calibration matrix $\\mathcal K$, the external $(3\\times 3)$ rotation matrix $R$ and the $(3\\times 1)$ translation vector $\\mathbf t$ so that:\n",
    "\n",
    "$$P=\\mathcal K [R | \\mathbf t]$$\n",
    "\n",
    "To do so, we are going to use the formulas from the lectures, and the numpy functions (`np.linalg.norm`, `np.linalg.inv`, `np.dot`, `np.cross`...).\n",
    "\n",
    "**5.a)** Write a function `camera_parameters(P, eps=1)` that takes as input the camera matrix `P` and a sign `eps` ($\\varepsilon$, the sign of $\\rho$ in the equations from the lecture), and outputs three values `K`, `R` and `t` that correspond to the intrinsic and extrinsic parameters of the camera. <br/>\n",
    "**b)** Display the results for `eps=1` and check that your values `(K, R, t)` can correctly reconstruct `P`."
   ]
  },
  {
   "cell_type": "code",
   "execution_count": 162,
   "metadata": {},
   "outputs": [
    {
     "name": "stdout",
     "output_type": "stream",
     "text": [
      "[[-4.53359881e-03 -5.65451256e-04  2.02849590e-03 -5.23179344e-01]\n",
      " [-1.84278426e-03  4.15975903e-03 -1.68779276e-03 -8.52192928e-01]\n",
      " [-3.25683227e-06 -1.13804182e-06 -3.35237791e-06 -1.43209220e-03]]\n",
      "[[-4.53359881e-03 -5.65451256e-04  2.02849590e-03 -5.42398211e-01]\n",
      " [-1.84278426e-03  4.15975903e-03 -1.68779276e-03 -8.52192928e-01]\n",
      " [-3.25683227e-06 -1.13804182e-06 -3.35237791e-06 -1.43209220e-03]]\n"
     ]
    }
   ],
   "source": [
    "#5.a)\n",
    "def camera_parameters(P, eps=1):\n",
    "    P_square = P[:,:3]\n",
    "    P_last_column = P[:,-1]\n",
    "\n",
    "    # Perform RQ decomposition to decompose into K (upper triangular) and R (orthonormal)\n",
    "    Q, R = np.linalg.qr(np.flipud(P_square).T)  \n",
    "    R = np.flipud(R.T)  \n",
    "    R = np.fliplr(R)  \n",
    "    Q = Q.T\n",
    "    Q = np.flipud(Q)\n",
    "\n",
    "    # Back to the notation of the course\n",
    "    K = R\n",
    "    R = Q\n",
    "    \n",
    "    # solving P_last_column = K*t\n",
    "    t = np.dot(np.linalg.inv(K),P_last_column)\n",
    "    rho = K[-1,-1]\n",
    "    \n",
    "    # Normalizing K\n",
    "    K = K/rho\n",
    "    \n",
    "    # Correcting the signal of the decomposition to ensure R is a rotation matrix\n",
    "    K[:,0] = -K[:,0]\n",
    "    R[0,:] = -R[0,:]\n",
    "    \n",
    "\n",
    "    return K, R, t , rho\n",
    "\n",
    "#5.b)\n",
    "K, R, t , rho = camera_parameters(P,eps=1)\n",
    "\n",
    "\n",
    "test = np.dot(rho*K,np.c_[R,t])\n",
    "print(P)\n",
    "print(test)\n"
   ]
  },
  {
   "cell_type": "markdown",
   "metadata": {},
   "source": [
    "**6.** The sign of $\\rho$ is not easy to decide a priori: test your function with both choices of `eps`, and comment on which option makes more sense (is the object in front of the camera?)"
   ]
  },
  {
   "cell_type": "markdown",
   "metadata": {
    "collapsed": true
   },
   "source": [
    "### Non linear method\n",
    "\n",
    "**7.a)** Improve the estimate of the camera matrix using non linear least squares: use `projection_error` from **3.** and `optimize.leastsq` which implements a variant of Levenberg-Marquardt (read the documentation to use it appropriately). <br/>\n",
    "**b)** Compare the reprojection error before and after the optimization."
   ]
  },
  {
   "cell_type": "code",
   "execution_count": 231,
   "metadata": {},
   "outputs": [],
   "source": [
    "#7.a)\n",
    "from scipy.optimize import least_squares\n",
    "\n",
    "Initial_guess = P.flatten()\n",
    "Result= least_squares(projection_error, Initial_guess, args=(pts3d, pts2d), method='lm').x\n",
    "\n",
    "New_projection = np.reshape(Result,(3,4))\n",
    "\n"
   ]
  },
  {
   "cell_type": "code",
   "execution_count": 232,
   "metadata": {},
   "outputs": [
    {
     "name": "stdout",
     "output_type": "stream",
     "text": [
      "Error before: 0.4582634967385366\n",
      "Error after: 0.4571321565929858\n",
      "The error became -0.247% lower\n"
     ]
    }
   ],
   "source": [
    "#7.b)\n",
    "Before = np.mean(projection_error(P,pts3d,pts2d)**2)\n",
    "After = np.mean(projection_error(New_projection,pts3d,pts2d)**2)\n",
    "\n",
    "\n",
    "print(\"Error before:\",Before)\n",
    "print(\"Error after:\",After)\n",
    "\n",
    "print(f\"The error became {round(After/Before-1,5)*100}% lower\")"
   ]
  },
  {
   "cell_type": "markdown",
   "metadata": {},
   "source": [
    "Points after new projection"
   ]
  },
  {
   "cell_type": "code",
   "execution_count": 233,
   "metadata": {},
   "outputs": [
    {
     "data": {
      "image/png": "[encoded data removed]",
      "text/plain": [
       "<Figure size 432x288 with 1 Axes>"
      ]
     },
     "metadata": {
      "needs_background": "light"
     },
     "output_type": "display_data"
    }
   ],
   "source": [
    "projection_homogenous = np.dot(New_projection,np.transpose(homogenous_pts3d))\n",
    "projection = np.array([projection_homogenous[0,:]/projection_homogenous[-1,:],\n",
    "                        projection_homogenous[1,:]/projection_homogenous[-1,:]]).T\n",
    "\n",
    "plt.scatter(projection[:,0], projection[:,1], marker='o',c='orange',s=30)\n",
    "plt.scatter(pts2d[:,0], pts2d[:,1], marker='x',c='blue',s=4)\n",
    "plt.show()"
   ]
  }
 ],
 "metadata": {
  "kernelspec": {
   "display_name": "Python 3",
   "language": "python",
   "name": "python3"
  },
  "language_info": {
   "codemirror_mode": {
    "name": "ipython",
    "version": 3
   },
   "file_extension": ".py",
   "mimetype": "text/x-python",
   "name": "python",
   "nbconvert_exporter": "python",
   "pygments_lexer": "ipython3",
   "version": "3.7.6"
  }
 },
 "nbformat": 4,
 "nbformat_minor": 1
}
